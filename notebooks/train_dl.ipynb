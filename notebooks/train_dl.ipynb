{
 "cells": [
  {
   "cell_type": "code",
   "execution_count": 1,
   "metadata": {},
   "outputs": [],
   "source": [
    "import torch\n",
    "import os\n",
    "os.chdir(\"..\")"
   ]
  },
  {
   "cell_type": "code",
   "execution_count": 7,
   "metadata": {},
   "outputs": [],
   "source": [
    "train_X, train_Y = torch.load(\"data/MNIST/processed/training.pt\")\n",
    "val_X, val_Y     = torch.load(\"data/MNIST/processed/validation.pt\") \n",
    "test_X, test_Y   = torch.load(\"data/MNIST/processed/test.pt\") "
   ]
  },
  {
   "cell_type": "code",
   "execution_count": 14,
   "metadata": {},
   "outputs": [],
   "source": [
    "from torch.utils.data import DataLoader, Dataset"
   ]
  },
  {
   "cell_type": "code",
   "execution_count": 19,
   "metadata": {},
   "outputs": [],
   "source": [
    "class MNIST_Dataset(Dataset):\n",
    "    def __init__(self, path, transform=None, target_transform=None,):\n",
    "        super().__init__()\n",
    "        self.X, self.Y = torch.load(path)\n",
    "\n",
    "    def __len__(self):\n",
    "        return self.X.shape[0]\n",
    "\n",
    "    def __getitem__(self, idx):\n",
    "        return self.X[idx,...], self.Y[idx,...]"
   ]
  },
  {
   "cell_type": "code",
   "execution_count": 20,
   "metadata": {},
   "outputs": [],
   "source": [
    "train_dataset      = MNIST_Dataset(\"data/MNIST/processed/training.pt\")\n",
    "validation_dataset = MNIST_Dataset(\"data/MNIST/processed/validation.pt\")\n",
    "test_dataset       = MNIST_Dataset(\"data/MNIST/processed/test.pt\")"
   ]
  },
  {
   "cell_type": "code",
   "execution_count": 24,
   "metadata": {},
   "outputs": [
    {
     "name": "stdout",
     "output_type": "stream",
     "text": [
      "torch.Size([12960, 1, 28, 28])\n",
      "torch.Size([8, 1, 28, 28])\n",
      "12960\n"
     ]
    }
   ],
   "source": [
    "print(train_X.shape)\n",
    "\n",
    "train_dl = DataLoader(train_dataset, batch_size=8)\n",
    "\n",
    "for data in train_dl:\n",
    "    print(data[0].shape)\n",
    "    break\n",
    "\n",
    "print(train_dl.dataset.__len__())"
   ]
  }
 ],
 "metadata": {
  "kernelspec": {
   "display_name": "Python 3",
   "language": "python",
   "name": "python3"
  },
  "language_info": {
   "codemirror_mode": {
    "name": "ipython",
    "version": 3
   },
   "file_extension": ".py",
   "mimetype": "text/x-python",
   "name": "python",
   "nbconvert_exporter": "python",
   "pygments_lexer": "ipython3",
   "version": "3.10.10"
  }
 },
 "nbformat": 4,
 "nbformat_minor": 2
}
